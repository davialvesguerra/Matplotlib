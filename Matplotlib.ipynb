{
  "nbformat": 4,
  "nbformat_minor": 0,
  "metadata": {
    "colab": {
      "name": "Matplotlib.ipynb",
      "provenance": [],
      "authorship_tag": "ABX9TyOKt1ca73I2SL1OaPD0wWlZ",
      "include_colab_link": true
    },
    "kernelspec": {
      "name": "python3",
      "display_name": "Python 3"
    }
  },
  "cells": [
    {
      "cell_type": "markdown",
      "metadata": {
        "id": "view-in-github",
        "colab_type": "text"
      },
      "source": [
        "<a href=\"https://colab.research.google.com/github/davialvesguerra/Matplotlib/blob/master/Matplotlib.ipynb\" target=\"_parent\"><img src=\"https://colab.research.google.com/assets/colab-badge.svg\" alt=\"Open In Colab\"/></a>"
      ]
    },
    {
      "cell_type": "markdown",
      "metadata": {
        "id": "rZNxZIO6IoBm",
        "colab_type": "text"
      },
      "source": [
        "### Importando o pacote"
      ]
    },
    {
      "cell_type": "code",
      "metadata": {
        "id": "nGWBuFNXi44w",
        "colab_type": "code",
        "colab": {}
      },
      "source": [
        "import matplotlib.pyplot as plt"
      ],
      "execution_count": null,
      "outputs": []
    },
    {
      "cell_type": "markdown",
      "metadata": {
        "id": "n2MchqMPN5F_",
        "colab_type": "text"
      },
      "source": [
        "### Criando o gráfico"
      ]
    },
    {
      "cell_type": "code",
      "metadata": {
        "id": "iXw9Ic0aOKZ6",
        "colab_type": "code",
        "colab": {}
      },
      "source": [
        ""
      ],
      "execution_count": null,
      "outputs": []
    },
    {
      "cell_type": "markdown",
      "metadata": {
        "id": "BQy6G7tgKl9g",
        "colab_type": "text"
      },
      "source": [
        "### Tipos de Gráficos\n"
      ]
    },
    {
      "cell_type": "markdown",
      "metadata": {
        "id": "gAUJKFdnKtru",
        "colab_type": "text"
      },
      "source": [
        "*   Gráfico de Linhas"
      ]
    },
    {
      "cell_type": "code",
      "metadata": {
        "id": "0beLxV_SK2vr",
        "colab_type": "code",
        "colab": {}
      },
      "source": [
        "#cria um simples gráfico de linhas\n",
        "plt.plot(x,y)"
      ],
      "execution_count": null,
      "outputs": []
    },
    {
      "cell_type": "markdown",
      "metadata": {
        "id": "hqGaD-SnLH9e",
        "colab_type": "text"
      },
      "source": [
        "* Gráfico de Pontos"
      ]
    },
    {
      "cell_type": "code",
      "metadata": {
        "id": "4zbqssvBL8J-",
        "colab_type": "code",
        "colab": {}
      },
      "source": [
        "plt.scatter(x,y)"
      ],
      "execution_count": null,
      "outputs": []
    },
    {
      "cell_type": "markdown",
      "metadata": {
        "id": "nOdpgyXWLNre",
        "colab_type": "text"
      },
      "source": [
        "* Gráfico de Barras Horizontal"
      ]
    },
    {
      "cell_type": "code",
      "metadata": {
        "id": "c7jGdJUYMCZ_",
        "colab_type": "code",
        "colab": {}
      },
      "source": [
        "plt.barh(yvalue, data, width, color...)"
      ],
      "execution_count": null,
      "outputs": []
    },
    {
      "cell_type": "markdown",
      "metadata": {
        "id": "GxoIHEMtLVIi",
        "colab_type": "text"
      },
      "source": [
        "* Gráfico de Barras Vertical"
      ]
    },
    {
      "cell_type": "code",
      "metadata": {
        "id": "1VlnYK86Mtt8",
        "colab_type": "code",
        "colab": {}
      },
      "source": [
        "plt.bar(xvalue, data , width, color...)"
      ],
      "execution_count": null,
      "outputs": []
    },
    {
      "cell_type": "markdown",
      "metadata": {
        "id": "y4IPP8-cLgYL",
        "colab_type": "text"
      },
      "source": [
        "* Histograma"
      ]
    },
    {
      "cell_type": "code",
      "metadata": {
        "id": "y0a0HW1eMw-N",
        "colab_type": "code",
        "colab": {}
      },
      "source": [
        "plt.hist(x, y)"
      ],
      "execution_count": null,
      "outputs": []
    },
    {
      "cell_type": "markdown",
      "metadata": {
        "id": "VhNbccenLawu",
        "colab_type": "text"
      },
      "source": [
        "* Boxplot"
      ]
    },
    {
      "cell_type": "code",
      "metadata": {
        "id": "PlgR3GyIMzhU",
        "colab_type": "code",
        "colab": {}
      },
      "source": [
        "plt.boxplot(x,y)"
      ],
      "execution_count": null,
      "outputs": []
    },
    {
      "cell_type": "markdown",
      "metadata": {
        "id": "3vCLKElqLogD",
        "colab_type": "text"
      },
      "source": [
        "* Gráfico de Violino"
      ]
    },
    {
      "cell_type": "code",
      "metadata": {
        "id": "xHrwxr0_NFhq",
        "colab_type": "code",
        "colab": {}
      },
      "source": [
        "plt.violinplot(x, y)"
      ],
      "execution_count": null,
      "outputs": []
    },
    {
      "cell_type": "markdown",
      "metadata": {
        "id": "hhIf09NoL2vM",
        "colab_type": "text"
      },
      "source": [
        "* Gráfico de Área"
      ]
    }
  ]
}