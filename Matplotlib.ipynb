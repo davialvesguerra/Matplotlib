{
  "nbformat": 4,
  "nbformat_minor": 0,
  "metadata": {
    "colab": {
      "name": "Matplotlib.ipynb",
      "provenance": [],
      "authorship_tag": "ABX9TyOiJct08zTSgPPR2Y2vJDOG",
      "include_colab_link": true
    },
    "kernelspec": {
      "name": "python3",
      "display_name": "Python 3"
    }
  },
  "cells": [
    {
      "cell_type": "markdown",
      "metadata": {
        "id": "view-in-github",
        "colab_type": "text"
      },
      "source": [
        "<a href=\"https://colab.research.google.com/github/davialvesguerra/Matplotlib/blob/master/Matplotlib.ipynb\" target=\"_parent\"><img src=\"https://colab.research.google.com/assets/colab-badge.svg\" alt=\"Open In Colab\"/></a>"
      ]
    },
    {
      "cell_type": "markdown",
      "metadata": {
        "id": "rZNxZIO6IoBm",
        "colab_type": "text"
      },
      "source": [
        "### Importando o pacote"
      ]
    },
    {
      "cell_type": "code",
      "metadata": {
        "id": "nGWBuFNXi44w",
        "colab_type": "code",
        "colab": {}
      },
      "source": [
        "import matplotlib.pyplot as plt"
      ],
      "execution_count": null,
      "outputs": []
    },
    {
      "cell_type": "markdown",
      "metadata": {
        "id": "n2MchqMPN5F_",
        "colab_type": "text"
      },
      "source": [
        "### Criando seu gráfico"
      ]
    },
    {
      "cell_type": "code",
      "metadata": {
        "id": "iXw9Ic0aOKZ6",
        "colab_type": "code",
        "colab": {}
      },
      "source": [
        "#objeto que vai conter todos os gráficos\n",
        "fig = plt.figures()"
      ],
      "execution_count": null,
      "outputs": []
    },
    {
      "cell_type": "markdown",
      "metadata": {
        "id": "U_KNx0FsQOSj",
        "colab_type": "text"
      },
      "source": [
        "### Importando o banco de dados e as variáveis que serão utilizadas para os exemplos\n",
        "\n"
      ]
    },
    {
      "cell_type": "code",
      "metadata": {
        "id": "vpcCNNAaQsmG",
        "colab_type": "code",
        "colab": {}
      },
      "source": [
        "import pandas as pd\n",
        "import seaborn as sns\n",
        "\n",
        "\n",
        "x = [1,2,3,4,5,6,7]\n",
        "y = [13,53,21,49,8,30,26]\n",
        "\n",
        "\n",
        "sns.get_dataset_names()\n",
        "data = sns.load_dataset('iris')"
      ],
      "execution_count": null,
      "outputs": []
    },
    {
      "cell_type": "markdown",
      "metadata": {
        "id": "BQy6G7tgKl9g",
        "colab_type": "text"
      },
      "source": [
        "### Tipos de Gráficos\n"
      ]
    },
    {
      "cell_type": "markdown",
      "metadata": {
        "id": "gAUJKFdnKtru",
        "colab_type": "text"
      },
      "source": [
        "*   Gráfico de Linhas"
      ]
    },
    {
      "cell_type": "code",
      "metadata": {
        "id": "0beLxV_SK2vr",
        "colab_type": "code",
        "colab": {
          "base_uri": "https://localhost:8080/",
          "height": 282
        },
        "outputId": "b24a16c8-385c-40c9-fabb-ddace0ee9cae"
      },
      "source": [
        "#cria um simples gráfico de linhas\n",
        "plt.plot(x,y)"
      ],
      "execution_count": 44,
      "outputs": [
        {
          "output_type": "execute_result",
          "data": {
            "text/plain": [
              "[<matplotlib.lines.Line2D at 0x7f71d93abb00>]"
            ]
          },
          "metadata": {
            "tags": []
          },
          "execution_count": 44
        },
        {
          "output_type": "display_data",
          "data": {
            "image/png": "[encoded data removed]",
            "text/plain": [
              "<Figure size 432x288 with 1 Axes>"
            ]
          },
          "metadata": {
            "tags": [],
            "needs_background": "light"
          }
        }
      ]
    },
    {
      "cell_type": "markdown",
      "metadata": {
        "id": "ma3-_N7HW7Za",
        "colab_type": "text"
      },
      "source": [
        "Propriedades"
      ]
    },
    {
      "cell_type": "code",
      "metadata": {
        "id": "pz_JnFUqUQrd",
        "colab_type": "code",
        "colab": {
          "base_uri": "https://localhost:8080/",
          "height": 1000
        },
        "outputId": "a6aac87e-17d1-4df9-a0ca-edc49cb8b5c2"
      },
      "source": [
        "#veja as principais propriedades e teste cada uma delas!\n",
        "help(plt.plot)"
      ],
      "execution_count": 76,
      "outputs": [
        {
          "output_type": "stream",
          "text": [
            "Help on function plot in module matplotlib.pyplot:\n",
            "\n",
            "plot(*args, scalex=True, scaley=True, data=None, **kwargs)\n",
            "    Plot y versus x as lines and/or markers.\n",
            "    \n",
            "    Call signatures::\n",
            "    \n",
            "        plot([x], y, [fmt], *, data=None, **kwargs)\n",
            "        plot([x], y, [fmt], [x2], y2, [fmt2], ..., **kwargs)\n",
            "    \n",
            "    The coordinates of the points or line nodes are given by *x*, *y*.\n",
            "    \n",
            "    The optional parameter *fmt* is a convenient way for defining basic\n",
            "    formatting like color, marker and linestyle. It's a shortcut string\n",
            "    notation described in the *Notes* section below.\n",
            "    \n",
            "    >>> plot(x, y)        # plot x and y using default line style and color\n",
            "    >>> plot(x, y, 'bo')  # plot x and y using blue circle markers\n",
            "    >>> plot(y)           # plot y using x as index array 0..N-1\n",
            "    >>> plot(y, 'r+')     # ditto, but with red plusses\n",
            "    \n",
            "    You can use `.Line2D` properties as keyword arguments for more\n",
            "    control on the appearance. Line properties and *fmt* can be mixed.\n",
            "    The following two calls yield identical results:\n",
            "    \n",
            "    >>> plot(x, y, 'go--', linewidth=2, markersize=12)\n",
            "    >>> plot(x, y, color='green', marker='o', linestyle='dashed',\n",
            "    ...      linewidth=2, markersize=12)\n",
            "    \n",
            "    When conflicting with *fmt*, keyword arguments take precedence.\n",
            "    \n",
            "    \n",
            "    **Plotting labelled data**\n",
            "    \n",
            "    There's a convenient way for plotting objects with labelled data (i.e.\n",
            "    data that can be accessed by index ``obj['y']``). Instead of giving\n",
            "    the data in *x* and *y*, you can provide the object in the *data*\n",
            "    parameter and just give the labels for *x* and *y*::\n",
            "    \n",
            "    >>> plot('xlabel', 'ylabel', data=obj)\n",
            "    \n",
            "    All indexable objects are supported. This could e.g. be a `dict`, a\n",
            "    `pandas.DataFame` or a structured numpy array.\n",
            "    \n",
            "    \n",
            "    **Plotting multiple sets of data**\n",
            "    \n",
            "    There are various ways to plot multiple sets of data.\n",
            "    \n",
            "    - The most straight forward way is just to call `plot` multiple times.\n",
            "      Example:\n",
            "    \n",
            "      >>> plot(x1, y1, 'bo')\n",
            "      >>> plot(x2, y2, 'go')\n",
            "    \n",
            "    - Alternatively, if your data is already a 2d array, you can pass it\n",
            "      directly to *x*, *y*. A separate data set will be drawn for every\n",
            "      column.\n",
            "    \n",
            "      Example: an array ``a`` where the first column represents the *x*\n",
            "      values and the other columns are the *y* columns::\n",
            "    \n",
            "      >>> plot(a[0], a[1:])\n",
            "    \n",
            "    - The third way is to specify multiple sets of *[x]*, *y*, *[fmt]*\n",
            "      groups::\n",
            "    \n",
            "      >>> plot(x1, y1, 'g^', x2, y2, 'g-')\n",
            "    \n",
            "      In this case, any additional keyword argument applies to all\n",
            "      datasets. Also this syntax cannot be combined with the *data*\n",
            "      parameter.\n",
            "    \n",
            "    By default, each line is assigned a different style specified by a\n",
            "    'style cycle'. The *fmt* and line property parameters are only\n",
            "    necessary if you want explicit deviations from these defaults.\n",
            "    Alternatively, you can also change the style cycle using\n",
            "    :rc:`axes.prop_cycle`.\n",
            "    \n",
            "    \n",
            "    Parameters\n",
            "    ----------\n",
            "    x, y : array-like or scalar\n",
            "        The horizontal / vertical coordinates of the data points.\n",
            "        *x* values are optional and default to `range(len(y))`.\n",
            "    \n",
            "        Commonly, these parameters are 1D arrays.\n",
            "    \n",
            "        They can also be scalars, or two-dimensional (in that case, the\n",
            "        columns represent separate data sets).\n",
            "    \n",
            "        These arguments cannot be passed as keywords.\n",
            "    \n",
            "    fmt : str, optional\n",
            "        A format string, e.g. 'ro' for red circles. See the *Notes*\n",
            "        section for a full description of the format strings.\n",
            "    \n",
            "        Format strings are just an abbreviation for quickly setting\n",
            "        basic line properties. All of these and more can also be\n",
            "        controlled by keyword arguments.\n",
            "    \n",
            "        This argument cannot be passed as keyword.\n",
            "    \n",
            "    data : indexable object, optional\n",
            "        An object with labelled data. If given, provide the label names to\n",
            "        plot in *x* and *y*.\n",
            "    \n",
            "        .. note::\n",
            "            Technically there's a slight ambiguity in calls where the\n",
            "            second label is a valid *fmt*. `plot('n', 'o', data=obj)`\n",
            "            could be `plt(x, y)` or `plt(y, fmt)`. In such cases,\n",
            "            the former interpretation is chosen, but a warning is issued.\n",
            "            You may suppress the warning by adding an empty format string\n",
            "            `plot('n', 'o', '', data=obj)`.\n",
            "    \n",
            "    Other Parameters\n",
            "    ----------------\n",
            "    scalex, scaley : bool, optional, default: True\n",
            "        These parameters determined if the view limits are adapted to\n",
            "        the data limits. The values are passed on to `autoscale_view`.\n",
            "    \n",
            "    **kwargs : `.Line2D` properties, optional\n",
            "        *kwargs* are used to specify properties like a line label (for\n",
            "        auto legends), linewidth, antialiasing, marker face color.\n",
            "        Example::\n",
            "    \n",
            "        >>> plot([1, 2, 3], [1, 2, 3], 'go-', label='line 1', linewidth=2)\n",
            "        >>> plot([1, 2, 3], [1, 4, 9], 'rs', label='line 2')\n",
            "    \n",
            "        If you make multiple lines with one plot command, the kwargs\n",
            "        apply to all those lines.\n",
            "    \n",
            "        Here is a list of available `.Line2D` properties:\n",
            "    \n",
            "        Properties:\n",
            "        agg_filter: a filter function, which takes a (m, n, 3) float array and a dpi value, and returns a (m, n, 3) array\n",
            "        alpha: float or None\n",
            "        animated: bool\n",
            "        antialiased or aa: bool\n",
            "        clip_box: `.Bbox`\n",
            "        clip_on: bool\n",
            "        clip_path: Patch or (Path, Transform) or None\n",
            "        color or c: color\n",
            "        contains: callable\n",
            "        dash_capstyle: {'butt', 'round', 'projecting'}\n",
            "        dash_joinstyle: {'miter', 'round', 'bevel'}\n",
            "        dashes: sequence of floats (on/off ink in points) or (None, None)\n",
            "        data: (2, N) array or two 1D arrays\n",
            "        drawstyle or ds: {'default', 'steps', 'steps-pre', 'steps-mid', 'steps-post'}, default: 'default'\n",
            "        figure: `.Figure`\n",
            "        fillstyle: {'full', 'left', 'right', 'bottom', 'top', 'none'}\n",
            "        gid: str\n",
            "        in_layout: bool\n",
            "        label: object\n",
            "        linestyle or ls: {'-', '--', '-.', ':', '', (offset, on-off-seq), ...}\n",
            "        linewidth or lw: float\n",
            "        marker: marker style\n",
            "        markeredgecolor or mec: color\n",
            "        markeredgewidth or mew: float\n",
            "        markerfacecolor or mfc: color\n",
            "        markerfacecoloralt or mfcalt: color\n",
            "        markersize or ms: float\n",
            "        markevery: None or int or (int, int) or slice or List[int] or float or (float, float)\n",
            "        path_effects: `.AbstractPathEffect`\n",
            "        picker: float or callable[[Artist, Event], Tuple[bool, dict]]\n",
            "        pickradius: float\n",
            "        rasterized: bool or None\n",
            "        sketch_params: (scale: float, length: float, randomness: float)\n",
            "        snap: bool or None\n",
            "        solid_capstyle: {'butt', 'round', 'projecting'}\n",
            "        solid_joinstyle: {'miter', 'round', 'bevel'}\n",
            "        transform: `matplotlib.transforms.Transform`\n",
            "        url: str\n",
            "        visible: bool\n",
            "        xdata: 1D array\n",
            "        ydata: 1D array\n",
            "        zorder: float\n",
            "    \n",
            "    Returns\n",
            "    -------\n",
            "    lines\n",
            "        A list of `.Line2D` objects representing the plotted data.\n",
            "    \n",
            "    See Also\n",
            "    --------\n",
            "    scatter : XY scatter plot with markers of varying size and/or color (\n",
            "        sometimes also called bubble chart).\n",
            "    \n",
            "    Notes\n",
            "    -----\n",
            "    **Format Strings**\n",
            "    \n",
            "    A format string consists of a part for color, marker and line::\n",
            "    \n",
            "        fmt = '[marker][line][color]'\n",
            "    \n",
            "    Each of them is optional. If not provided, the value from the style\n",
            "    cycle is used. Exception: If ``line`` is given, but no ``marker``,\n",
            "    the data will be a line without markers.\n",
            "    \n",
            "    Other combinations such as ``[color][marker][line]`` are also\n",
            "    supported, but note that their parsing may be ambiguous.\n",
            "    \n",
            "    **Markers**\n",
            "    \n",
            "    =============    ===============================\n",
            "    character        description\n",
            "    =============    ===============================\n",
            "    ``'.'``          point marker\n",
            "    ``','``          pixel marker\n",
            "    ``'o'``          circle marker\n",
            "    ``'v'``          triangle_down marker\n",
            "    ``'^'``          triangle_up marker\n",
            "    ``'<'``          triangle_left marker\n",
            "    ``'>'``          triangle_right marker\n",
            "    ``'1'``          tri_down marker\n",
            "    ``'2'``          tri_up marker\n",
            "    ``'3'``          tri_left marker\n",
            "    ``'4'``          tri_right marker\n",
            "    ``'s'``          square marker\n",
            "    ``'p'``          pentagon marker\n",
            "    ``'*'``          star marker\n",
            "    ``'h'``          hexagon1 marker\n",
            "    ``'H'``          hexagon2 marker\n",
            "    ``'+'``          plus marker\n",
            "    ``'x'``          x marker\n",
            "    ``'D'``          diamond marker\n",
            "    ``'d'``          thin_diamond marker\n",
            "    ``'|'``          vline marker\n",
            "    ``'_'``          hline marker\n",
            "    =============    ===============================\n",
            "    \n",
            "    **Line Styles**\n",
            "    \n",
            "    =============    ===============================\n",
            "    character        description\n",
            "    =============    ===============================\n",
            "    ``'-'``          solid line style\n",
            "    ``'--'``         dashed line style\n",
            "    ``'-.'``         dash-dot line style\n",
            "    ``':'``          dotted line style\n",
            "    =============    ===============================\n",
            "    \n",
            "    Example format strings::\n",
            "    \n",
            "        'b'    # blue markers with default shape\n",
            "        'or'   # red circles\n",
            "        '-g'   # green solid line\n",
            "        '--'   # dashed line with default color\n",
            "        '^k:'  # black triangle_up markers connected by a dotted line\n",
            "    \n",
            "    **Colors**\n",
            "    \n",
            "    The supported color abbreviations are the single letter codes\n",
            "    \n",
            "    =============    ===============================\n",
            "    character        color\n",
            "    =============    ===============================\n",
            "    ``'b'``          blue\n",
            "    ``'g'``          green\n",
            "    ``'r'``          red\n",
            "    ``'c'``          cyan\n",
            "    ``'m'``          magenta\n",
            "    ``'y'``          yellow\n",
            "    ``'k'``          black\n",
            "    ``'w'``          white\n",
            "    =============    ===============================\n",
            "    \n",
            "    and the ``'CN'`` colors that index into the default property cycle.\n",
            "    \n",
            "    If the color is the only part of the format string, you can\n",
            "    additionally use any  `matplotlib.colors` spec, e.g. full names\n",
            "    (``'green'``) or hex strings (``'#008000'``).\n",
            "\n"
          ],
          "name": "stdout"
        }
      ]
    },
    {
      "cell_type": "markdown",
      "metadata": {
        "id": "Xbb__dHIXAz0",
        "colab_type": "text"
      },
      "source": [
        "Exemplo"
      ]
    },
    {
      "cell_type": "code",
      "metadata": {
        "id": "j6JyV0HZWzOd",
        "colab_type": "code",
        "colab": {
          "base_uri": "https://localhost:8080/",
          "height": 281
        },
        "outputId": "4b51a075-d70d-48bc-e21b-bf04b994a61b"
      },
      "source": [
        "##Mostrando um exemplo mais complexo\n",
        "data = sns.load_dataset('flights')\n",
        "data = data.groupby(\"year\").sum()\n",
        "\n",
        "x = data.index\n",
        "y = data.passengers\n",
        "\n",
        "plt.plot(x,y,color = \"#A11D21\",marker='o', markerfacecolor='#A11D21', markersize=3)\n",
        "plt.title(\"Número de Vôos\")\n",
        "plt.show()\n"
      ],
      "execution_count": 104,
      "outputs": [
        {
          "output_type": "display_data",
          "data": {
            "image/png": "[encoded data removed]",
            "text/plain": [
              "<Figure size 432x288 with 1 Axes>"
            ]
          },
          "metadata": {
            "tags": [],
            "needs_background": "light"
          }
        }
      ]
    },
    {
      "cell_type": "markdown",
      "metadata": {
        "id": "hqGaD-SnLH9e",
        "colab_type": "text"
      },
      "source": [
        "* Gráfico de Pontos"
      ]
    },
    {
      "cell_type": "code",
      "metadata": {
        "id": "4zbqssvBL8J-",
        "colab_type": "code",
        "colab": {
          "base_uri": "https://localhost:8080/",
          "height": 282
        },
        "outputId": "039b8a12-49ce-461f-b2c7-4289a7255eb9"
      },
      "source": [
        "plt.scatter(x,y)"
      ],
      "execution_count": 20,
      "outputs": [
        {
          "output_type": "execute_result",
          "data": {
            "text/plain": [
              "<matplotlib.collections.PathCollection at 0x7f71d9dd2b38>"
            ]
          },
          "metadata": {
            "tags": []
          },
          "execution_count": 20
        },
        {
          "output_type": "display_data",
          "data": {
            "image/png": "[encoded data removed]",
            "text/plain": [
              "<Figure size 432x288 with 1 Axes>"
            ]
          },
          "metadata": {
            "tags": [],
            "needs_background": "light"
          }
        }
      ]
    },
    {
      "cell_type": "code",
      "metadata": {
        "id": "KHjMdf55WZbf",
        "colab_type": "code",
        "colab": {}
      },
      "source": [
        "#parêmetros\n",
        "#veja as principais propriedades e teste cada uma delas!\n",
        "help(plt.scatter)"
      ],
      "execution_count": null,
      "outputs": []
    },
    {
      "cell_type": "code",
      "metadata": {
        "id": "kliQKzG8Y8Qj",
        "colab_type": "code",
        "colab": {
          "base_uri": "https://localhost:8080/",
          "height": 282
        },
        "outputId": "f9ceb037-a767-4383-b73b-1b44a4c03d9f"
      },
      "source": [
        "##Mostrando um exemplo mais complexo\n",
        "\n",
        "plt.scatter(data.species,data.sepal_length)"
      ],
      "execution_count": 63,
      "outputs": [
        {
          "output_type": "execute_result",
          "data": {
            "text/plain": [
              "<matplotlib.collections.PathCollection at 0x7f71d861bf28>"
            ]
          },
          "metadata": {
            "tags": []
          },
          "execution_count": 63
        },
        {
          "output_type": "display_data",
          "data": {
            "image/png": "[encoded data removed]",
            "text/plain": [
              "<Figure size 432x288 with 1 Axes>"
            ]
          },
          "metadata": {
            "tags": [],
            "needs_background": "light"
          }
        }
      ]
    },
    {
      "cell_type": "markdown",
      "metadata": {
        "id": "nOdpgyXWLNre",
        "colab_type": "text"
      },
      "source": [
        "* Gráfico de Barras Horizontal"
      ]
    },
    {
      "cell_type": "code",
      "metadata": {
        "id": "c7jGdJUYMCZ_",
        "colab_type": "code",
        "colab": {
          "base_uri": "https://localhost:8080/",
          "height": 282
        },
        "outputId": "e2815a35-d0e6-46c6-c9a4-47bc14f5b450"
      },
      "source": [
        "plt.barh(x,y)"
      ],
      "execution_count": 28,
      "outputs": [
        {
          "output_type": "execute_result",
          "data": {
            "text/plain": [
              "<BarContainer object of 7 artists>"
            ]
          },
          "metadata": {
            "tags": []
          },
          "execution_count": 28
        },
        {
          "output_type": "display_data",
          "data": {
            "image/png": "[encoded data removed]",
            "text/plain": [
              "<Figure size 432x288 with 1 Axes>"
            ]
          },
          "metadata": {
            "tags": [],
            "needs_background": "light"
          }
        }
      ]
    },
    {
      "cell_type": "markdown",
      "metadata": {
        "id": "GxoIHEMtLVIi",
        "colab_type": "text"
      },
      "source": [
        "* Gráfico de Barras Vertical"
      ]
    },
    {
      "cell_type": "code",
      "metadata": {
        "id": "1VlnYK86Mtt8",
        "colab_type": "code",
        "colab": {
          "base_uri": "https://localhost:8080/",
          "height": 282
        },
        "outputId": "7362d8f8-b731-49de-cb1c-6ea55ecdfd07"
      },
      "source": [
        "plt.bar(x,y)"
      ],
      "execution_count": 30,
      "outputs": [
        {
          "output_type": "execute_result",
          "data": {
            "text/plain": [
              "<BarContainer object of 7 artists>"
            ]
          },
          "metadata": {
            "tags": []
          },
          "execution_count": 30
        },
        {
          "output_type": "display_data",
          "data": {
            "image/png": "[encoded data removed]",
            "text/plain": [
              "<Figure size 432x288 with 1 Axes>"
            ]
          },
          "metadata": {
            "tags": [],
            "needs_background": "light"
          }
        }
      ]
    },
    {
      "cell_type": "markdown",
      "metadata": {
        "id": "y4IPP8-cLgYL",
        "colab_type": "text"
      },
      "source": [
        "* Histograma"
      ]
    },
    {
      "cell_type": "code",
      "metadata": {
        "id": "y0a0HW1eMw-N",
        "colab_type": "code",
        "colab": {
          "base_uri": "https://localhost:8080/",
          "height": 317
        },
        "outputId": "b8851ea9-8ed7-4f9e-f9ae-293593841c02"
      },
      "source": [
        "plt.hist(y)"
      ],
      "execution_count": 33,
      "outputs": [
        {
          "output_type": "execute_result",
          "data": {
            "text/plain": [
              "(array([1., 1., 1., 0., 2., 0., 0., 0., 0., 2.]),\n",
              " array([ 8. , 12.5, 17. , 21.5, 26. , 30.5, 35. , 39.5, 44. , 48.5, 53. ]),\n",
              " <a list of 10 Patch objects>)"
            ]
          },
          "metadata": {
            "tags": []
          },
          "execution_count": 33
        },
        {
          "output_type": "display_data",
          "data": {
            "image/png": "[encoded data removed]",
            "text/plain": [
              "<Figure size 432x288 with 1 Axes>"
            ]
          },
          "metadata": {
            "tags": [],
            "needs_background": "light"
          }
        }
      ]
    },
    {
      "cell_type": "markdown",
      "metadata": {
        "id": "VhNbccenLawu",
        "colab_type": "text"
      },
      "source": [
        "* Boxplot"
      ]
    },
    {
      "cell_type": "code",
      "metadata": {
        "id": "PlgR3GyIMzhU",
        "colab_type": "code",
        "colab": {}
      },
      "source": [
        "plt.boxplot(x,y)"
      ],
      "execution_count": null,
      "outputs": []
    },
    {
      "cell_type": "markdown",
      "metadata": {
        "id": "3vCLKElqLogD",
        "colab_type": "text"
      },
      "source": [
        "* Gráfico de Violino"
      ]
    },
    {
      "cell_type": "code",
      "metadata": {
        "id": "xHrwxr0_NFhq",
        "colab_type": "code",
        "colab": {
          "base_uri": "https://localhost:8080/",
          "height": 335
        },
        "outputId": "150d254b-ff93-4a75-ea77-7f8bac8a6139"
      },
      "source": [
        "plt.violinplot(y)"
      ],
      "execution_count": 43,
      "outputs": [
        {
          "output_type": "execute_result",
          "data": {
            "text/plain": [
              "{'bodies': [<matplotlib.collections.PolyCollection at 0x7f71d9456080>],\n",
              " 'cbars': <matplotlib.collections.LineCollection at 0x7f71d94567f0>,\n",
              " 'cmaxes': <matplotlib.collections.LineCollection at 0x7f71d9449fd0>,\n",
              " 'cmins': <matplotlib.collections.LineCollection at 0x7f71d9456550>}"
            ]
          },
          "metadata": {
            "tags": []
          },
          "execution_count": 43
        },
        {
          "output_type": "display_data",
          "data": {
            "image/png": "[encoded data removed]",
            "text/plain": [
              "<Figure size 432x288 with 1 Axes>"
            ]
          },
          "metadata": {
            "tags": [],
            "needs_background": "light"
          }
        }
      ]
    },
    {
      "cell_type": "markdown",
      "metadata": {
        "id": "hhIf09NoL2vM",
        "colab_type": "text"
      },
      "source": [
        "* Gráfico de Área"
      ]
    }
  ]
}