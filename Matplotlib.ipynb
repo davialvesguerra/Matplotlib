{
  "nbformat": 4,
  "nbformat_minor": 0,
  "metadata": {
    "colab": {
      "name": "Matplotlib.ipynb",
      "provenance": [],
      "collapsed_sections": [],
      "authorship_tag": "ABX9TyNDD+n4qjH9VRFgJhZrBn3E",
      "include_colab_link": true
    },
    "kernelspec": {
      "name": "python3",
      "display_name": "Python 3"
    }
  },
  "cells": [
    {
      "cell_type": "markdown",
      "metadata": {
        "id": "view-in-github",
        "colab_type": "text"
      },
      "source": [
        "<a href=\"https://colab.research.google.com/github/davialvesguerra/Matplotlib/blob/master/Matplotlib.ipynb\" target=\"_parent\"><img src=\"https://colab.research.google.com/assets/colab-badge.svg\" alt=\"Open In Colab\"/></a>"
      ]
    },
    {
      "cell_type": "markdown",
      "metadata": {
        "id": "rZNxZIO6IoBm",
        "colab_type": "text"
      },
      "source": [
        "### Importando o pacote"
      ]
    },
    {
      "cell_type": "code",
      "metadata": {
        "id": "nGWBuFNXi44w",
        "colab_type": "code",
        "colab": {}
      },
      "source": [
        "import matplotlib.pyplot as plt"
      ],
      "execution_count": 1,
      "outputs": []
    },
    {
      "cell_type": "markdown",
      "metadata": {
        "id": "n2MchqMPN5F_",
        "colab_type": "text"
      },
      "source": [
        "### Criando seu gráfico"
      ]
    },
    {
      "cell_type": "code",
      "metadata": {
        "id": "iXw9Ic0aOKZ6",
        "colab_type": "code",
        "colab": {
          "base_uri": "https://localhost:8080/",
          "height": 34
        },
        "outputId": "c34fa49a-00a9-4a12-d064-4213e1a6127f"
      },
      "source": [
        "#objeto que vai conter todos os gráficos\n",
        "fig = plt.figure()\n",
        "\n",
        "#fig.add_axes()\n",
        "#a = fig.add_subplot(222)\tInitializes subplot\n",
        "#A subplot is an axes on a grid system row-col-num.\n",
        "#fig, b = plt.subplots(nrows=3, nclos=2)\tAdds subplot\n",
        "#ax = plt.subplots(2, 2)\tCreates subplot"
      ],
      "execution_count": 2,
      "outputs": [
        {
          "output_type": "display_data",
          "data": {
            "text/plain": [
              "<Figure size 432x288 with 0 Axes>"
            ]
          },
          "metadata": {
            "tags": []
          }
        }
      ]
    },
    {
      "cell_type": "markdown",
      "metadata": {
        "id": "U_KNx0FsQOSj",
        "colab_type": "text"
      },
      "source": [
        "### Importando o banco de dados e as variáveis que serão utilizadas para os exemplos\n",
        "\n"
      ]
    },
    {
      "cell_type": "code",
      "metadata": {
        "id": "vpcCNNAaQsmG",
        "colab_type": "code",
        "colab": {
          "base_uri": "https://localhost:8080/",
          "height": 161
        },
        "outputId": "339a273c-87ee-4821-9616-5f7e1ef3853a"
      },
      "source": [
        "import pandas as pd\n",
        "import seaborn as sns\n",
        "import numpy as np\n",
        "\n",
        "\n",
        "\n",
        "x = [1,2,3,4,5,6,7]\n",
        "y = [13,53,21,49,8,30,26]\n",
        "\n",
        "\n",
        "sns.get_dataset_names()\n",
        "data = sns.load_dataset('iris')"
      ],
      "execution_count": 4,
      "outputs": [
        {
          "output_type": "stream",
          "text": [
            "/usr/local/lib/python3.6/dist-packages/statsmodels/tools/_testing.py:19: FutureWarning: pandas.util.testing is deprecated. Use the functions in the public API at pandas.testing instead.\n",
            "  import pandas.util.testing as tm\n",
            "/usr/local/lib/python3.6/dist-packages/seaborn/utils.py:384: UserWarning: No parser was explicitly specified, so I'm using the best available HTML parser for this system (\"lxml\"). This usually isn't a problem, but if you run this code on another system, or in a different virtual environment, it may use a different parser and behave differently.\n",
            "\n",
            "The code that caused this warning is on line 384 of the file /usr/local/lib/python3.6/dist-packages/seaborn/utils.py. To get rid of this warning, pass the additional argument 'features=\"lxml\"' to the BeautifulSoup constructor.\n",
            "\n",
            "  gh_list = BeautifulSoup(http)\n"
          ],
          "name": "stderr"
        }
      ]
    },
    {
      "cell_type": "markdown",
      "metadata": {
        "id": "BQy6G7tgKl9g",
        "colab_type": "text"
      },
      "source": [
        "### Tipos de Gráficos\n"
      ]
    },
    {
      "cell_type": "markdown",
      "metadata": {
        "id": "gAUJKFdnKtru",
        "colab_type": "text"
      },
      "source": [
        "*   Gráfico de Linhas"
      ]
    },
    {
      "cell_type": "code",
      "metadata": {
        "id": "0beLxV_SK2vr",
        "colab_type": "code",
        "colab": {
          "base_uri": "https://localhost:8080/",
          "height": 282
        },
        "outputId": "1e193b6b-6b66-45dc-88e5-5405ed8cae35"
      },
      "source": [
        "#cria um simples gráfico de linhas\n",
        "plt.plot(x,y)"
      ],
      "execution_count": null,
      "outputs": [
        {
          "output_type": "execute_result",
          "data": {
            "text/plain": [
              "[<matplotlib.lines.Line2D at 0x7f16f04f9b38>]"
            ]
          },
          "metadata": {
            "tags": []
          },
          "execution_count": 4
        },
        {
          "output_type": "display_data",
          "data": {
            "image/png": "[encoded data removed]",
            "text/plain": [
              "<Figure size 432x288 with 1 Axes>"
            ]
          },
          "metadata": {
            "tags": [],
            "needs_background": "light"
          }
        }
      ]
    },
    {
      "cell_type": "markdown",
      "metadata": {
        "id": "ma3-_N7HW7Za",
        "colab_type": "text"
      },
      "source": [
        "Propriedades"
      ]
    },
    {
      "cell_type": "code",
      "metadata": {
        "id": "pz_JnFUqUQrd",
        "colab_type": "code",
        "colab": {}
      },
      "source": [
        "#veja as principais propriedades e teste cada uma delas!\n",
        "help(plt.plot)"
      ],
      "execution_count": null,
      "outputs": []
    },
    {
      "cell_type": "markdown",
      "metadata": {
        "id": "Xbb__dHIXAz0",
        "colab_type": "text"
      },
      "source": [
        "Exemplo"
      ]
    },
    {
      "cell_type": "code",
      "metadata": {
        "id": "j6JyV0HZWzOd",
        "colab_type": "code",
        "colab": {
          "base_uri": "https://localhost:8080/",
          "height": 294
        },
        "outputId": "168c3304-179c-49ad-b80c-2d5dac03c63e"
      },
      "source": [
        "##Mostrando um exemplo mais complexo\n",
        "data = sns.load_dataset('flights')\n",
        "data = data.groupby(\"year\").sum()\n",
        "\n",
        "x1 = data.index\n",
        "y1 = data.passengers\n",
        "\n",
        "fig, (ax1, ax2) = plt.subplots(2,1)\n",
        "\n",
        "ax1.plot(x1,y1,color = \"#A11D21\",marker='o', markerfacecolor='#A11D21', markersize=3)\n",
        "ax2.plot(x1,y1,color = \"blue\",marker='D',linestyle='dashdot', markerfacecolor='blue', markersize=6)\n",
        "\n",
        "\n",
        "\n",
        "fig.suptitle(\"Números de Vôos na Década de 50\")\n",
        "plt.show(ax1,ax2)\n",
        "\n",
        "\n",
        "#fig.xlabel(\"Anos\")\n",
        "#fig.ylabel(\"Número de Vôos\")\n",
        "#fig.show()\n"
      ],
      "execution_count": null,
      "outputs": [
        {
          "output_type": "display_data",
          "data": {
            "image/png": "[encoded data removed]",
            "text/plain": [
              "<Figure size 432x288 with 2 Axes>"
            ]
          },
          "metadata": {
            "tags": [],
            "needs_background": "light"
          }
        }
      ]
    },
    {
      "cell_type": "markdown",
      "metadata": {
        "id": "hqGaD-SnLH9e",
        "colab_type": "text"
      },
      "source": [
        "* Gráfico de Pontos"
      ]
    },
    {
      "cell_type": "code",
      "metadata": {
        "id": "4zbqssvBL8J-",
        "colab_type": "code",
        "colab": {
          "base_uri": "https://localhost:8080/",
          "height": 282
        },
        "outputId": "452b0692-a5b5-4f6e-da0e-7d48c1a83f9e"
      },
      "source": [
        "plt.scatter(x,y)"
      ],
      "execution_count": null,
      "outputs": [
        {
          "output_type": "execute_result",
          "data": {
            "text/plain": [
              "<matplotlib.collections.PathCollection at 0x7f062408bbe0>"
            ]
          },
          "metadata": {
            "tags": []
          },
          "execution_count": 7
        },
        {
          "output_type": "display_data",
          "data": {
            "image/png": "[encoded data removed]",
            "text/plain": [
              "<Figure size 432x288 with 1 Axes>"
            ]
          },
          "metadata": {
            "tags": [],
            "needs_background": "light"
          }
        }
      ]
    },
    {
      "cell_type": "code",
      "metadata": {
        "id": "KHjMdf55WZbf",
        "colab_type": "code",
        "colab": {
          "base_uri": "https://localhost:8080/",
          "height": 1000
        },
        "outputId": "04594811-0815-42d7-bc71-d82c9035c535"
      },
      "source": [
        "#parêmetros\n",
        "#veja as principais propriedades e teste cada uma delas!\n",
        "help(plt.scatter)"
      ],
      "execution_count": null,
      "outputs": [
        {
          "output_type": "stream",
          "text": [
            "Help on function scatter in module matplotlib.pyplot:\n",
            "\n",
            "scatter(x, y, s=None, c=None, marker=None, cmap=None, norm=None, vmin=None, vmax=None, alpha=None, linewidths=None, verts=<deprecated parameter>, edgecolors=None, *, plotnonfinite=False, data=None, **kwargs)\n",
            "    A scatter plot of *y* vs. *x* with varying marker size and/or color.\n",
            "    \n",
            "    Parameters\n",
            "    ----------\n",
            "    x, y : scalar or array-like, shape (n, )\n",
            "        The data positions.\n",
            "    \n",
            "    s : scalar or array-like, shape (n, ), optional\n",
            "        The marker size in points**2.\n",
            "        Default is ``rcParams['lines.markersize'] ** 2``.\n",
            "    \n",
            "    c : array-like or list of colors or color, optional\n",
            "        The marker colors. Possible values:\n",
            "    \n",
            "        - A scalar or sequence of n numbers to be mapped to colors using\n",
            "          *cmap* and *norm*.\n",
            "        - A 2-D array in which the rows are RGB or RGBA.\n",
            "        - A sequence of colors of length n.\n",
            "        - A single color format string.\n",
            "    \n",
            "        Note that *c* should not be a single numeric RGB or RGBA sequence\n",
            "        because that is indistinguishable from an array of values to be\n",
            "        colormapped. If you want to specify the same RGB or RGBA value for\n",
            "        all points, use a 2-D array with a single row.  Otherwise, value-\n",
            "        matching will have precedence in case of a size matching with *x*\n",
            "        and *y*.\n",
            "    \n",
            "        If you wish to specify a single color for all points\n",
            "        prefer the *color* keyword argument.\n",
            "    \n",
            "        Defaults to `None`. In that case the marker color is determined\n",
            "        by the value of *color*, *facecolor* or *facecolors*. In case\n",
            "        those are not specified or `None`, the marker color is determined\n",
            "        by the next color of the ``Axes``' current \"shape and fill\" color\n",
            "        cycle. This cycle defaults to :rc:`axes.prop_cycle`.\n",
            "    \n",
            "    marker : `~matplotlib.markers.MarkerStyle`, optional\n",
            "        The marker style. *marker* can be either an instance of the class\n",
            "        or the text shorthand for a particular marker.\n",
            "        Defaults to ``None``, in which case it takes the value of\n",
            "        :rc:`scatter.marker` = 'o'.\n",
            "        See `~matplotlib.markers` for more information about marker styles.\n",
            "    \n",
            "    cmap : `~matplotlib.colors.Colormap`, optional, default: None\n",
            "        A `.Colormap` instance or registered colormap name. *cmap* is only\n",
            "        used if *c* is an array of floats. If ``None``, defaults to rc\n",
            "        ``image.cmap``.\n",
            "    \n",
            "    norm : `~matplotlib.colors.Normalize`, optional, default: None\n",
            "        A `.Normalize` instance is used to scale luminance data to 0, 1.\n",
            "        *norm* is only used if *c* is an array of floats. If *None*, use\n",
            "        the default `.colors.Normalize`.\n",
            "    \n",
            "    vmin, vmax : scalar, optional, default: None\n",
            "        *vmin* and *vmax* are used in conjunction with *norm* to normalize\n",
            "        luminance data. If None, the respective min and max of the color\n",
            "        array is used. *vmin* and *vmax* are ignored if you pass a *norm*\n",
            "        instance.\n",
            "    \n",
            "    alpha : scalar, optional, default: None\n",
            "        The alpha blending value, between 0 (transparent) and 1 (opaque).\n",
            "    \n",
            "    linewidths : scalar or array-like, optional, default: None\n",
            "        The linewidth of the marker edges. Note: The default *edgecolors*\n",
            "        is 'face'. You may want to change this as well.\n",
            "        If *None*, defaults to :rc:`lines.linewidth`.\n",
            "    \n",
            "    edgecolors : {'face', 'none', *None*} or color or sequence of color, optional.\n",
            "        The edge color of the marker. Possible values:\n",
            "    \n",
            "        - 'face': The edge color will always be the same as the face color.\n",
            "        - 'none': No patch boundary will be drawn.\n",
            "        - A Matplotlib color or sequence of color.\n",
            "    \n",
            "        Defaults to ``None``, in which case it takes the value of\n",
            "        :rc:`scatter.edgecolors` = 'face'.\n",
            "    \n",
            "        For non-filled markers, the *edgecolors* kwarg is ignored and\n",
            "        forced to 'face' internally.\n",
            "    \n",
            "    plotnonfinite : boolean, optional, default: False\n",
            "        Set to plot points with nonfinite *c*, in conjunction with\n",
            "        `~matplotlib.colors.Colormap.set_bad`.\n",
            "    \n",
            "    Returns\n",
            "    -------\n",
            "    paths : `~matplotlib.collections.PathCollection`\n",
            "    \n",
            "    Other Parameters\n",
            "    ----------------\n",
            "    **kwargs : `~matplotlib.collections.Collection` properties\n",
            "    \n",
            "    See Also\n",
            "    --------\n",
            "    plot : To plot scatter plots when markers are identical in size and\n",
            "        color.\n",
            "    \n",
            "    Notes\n",
            "    -----\n",
            "    * The `.plot` function will be faster for scatterplots where markers\n",
            "      don't vary in size or color.\n",
            "    \n",
            "    * Any or all of *x*, *y*, *s*, and *c* may be masked arrays, in which\n",
            "      case all masks will be combined and only unmasked points will be\n",
            "      plotted.\n",
            "    \n",
            "    * Fundamentally, scatter works with 1-D arrays; *x*, *y*, *s*, and *c*\n",
            "      may be input as N-D arrays, but within scatter they will be\n",
            "      flattened. The exception is *c*, which will be flattened only if its\n",
            "      size matches the size of *x* and *y*.\n",
            "    \n",
            "    .. note::\n",
            "        In addition to the above described arguments, this function can take a\n",
            "        **data** keyword argument. If such a **data** argument is given, the\n",
            "        following arguments are replaced by **data[<arg>]**:\n",
            "    \n",
            "        * All arguments with the following names: 'c', 'color', 'edgecolors', 'facecolor', 'facecolors', 'linewidths', 's', 'x', 'y'.\n",
            "    \n",
            "        Objects passed as **data** must support item access (``data[<arg>]``) and\n",
            "        membership test (``<arg> in data``).\n",
            "\n"
          ],
          "name": "stdout"
        }
      ]
    },
    {
      "cell_type": "code",
      "metadata": {
        "id": "kliQKzG8Y8Qj",
        "colab_type": "code",
        "colab": {
          "base_uri": "https://localhost:8080/",
          "height": 267
        },
        "outputId": "0e47a96a-8e0f-46cc-99c8-1d78bb163597"
      },
      "source": [
        "##Mostrando um exemplo mais complexo\n",
        "\n",
        "df = sns.load_dataset(\"iris\")\n",
        "\n",
        "x1 = np.array(df[\"sepal_length\"])\n",
        "y1 = np.array(df[\"sepal_width\"] )\n",
        "\n",
        "\n",
        "species = df[\"species\"]\n",
        " \n",
        "# Scatter\n",
        "\n",
        "\n",
        "fig, ax = plt.subplots()\n",
        "for specie in np.unique(species):\n",
        "  \n",
        "    ix = np.where(species == specie)\n",
        "    ax.scatter(x1[ix], y1[ix], s=62, linewidth=0.4, label = specie )\n",
        "\n",
        "plt.legend()\n",
        "plt.show()\n",
        "\n",
        "\n",
        "#observações:\n",
        "# -c: usado quando existem mais de uma cor\n"
      ],
      "execution_count": null,
      "outputs": [
        {
          "output_type": "display_data",
          "data": {
            "image/png": "[encoded data removed]",
            "text/plain": [
              "<Figure size 432x288 with 1 Axes>"
            ]
          },
          "metadata": {
            "tags": [],
            "needs_background": "light"
          }
        }
      ]
    },
    {
      "cell_type": "markdown",
      "metadata": {
        "id": "nOdpgyXWLNre",
        "colab_type": "text"
      },
      "source": [
        "* Gráfico de Barras Horizontal"
      ]
    },
    {
      "cell_type": "code",
      "metadata": {
        "id": "c7jGdJUYMCZ_",
        "colab_type": "code",
        "colab": {}
      },
      "source": [
        "plt.barh(x,y)"
      ],
      "execution_count": null,
      "outputs": []
    },
    {
      "cell_type": "markdown",
      "metadata": {
        "id": "GxoIHEMtLVIi",
        "colab_type": "text"
      },
      "source": [
        "* Gráfico de Barras Vertical"
      ]
    },
    {
      "cell_type": "code",
      "metadata": {
        "id": "1VlnYK86Mtt8",
        "colab_type": "code",
        "colab": {
          "base_uri": "https://localhost:8080/",
          "height": 282
        },
        "outputId": "33fb5e9f-6f18-47f1-b50b-fe8bd36e158a"
      },
      "source": [
        "plt.bar(x,y)"
      ],
      "execution_count": 6,
      "outputs": [
        {
          "output_type": "execute_result",
          "data": {
            "text/plain": [
              "<BarContainer object of 7 artists>"
            ]
          },
          "metadata": {
            "tags": []
          },
          "execution_count": 6
        },
        {
          "output_type": "display_data",
          "data": {
            "image/png": "[encoded data removed]",
            "text/plain": [
              "<Figure size 432x288 with 1 Axes>"
            ]
          },
          "metadata": {
            "tags": [],
            "needs_background": "light"
          }
        }
      ]
    },
    {
      "cell_type": "code",
      "metadata": {
        "id": "Fx6uiEgzXkvs",
        "colab_type": "code",
        "colab": {}
      },
      "source": [
        "#parêmetros\n",
        "#veja as principais propriedades e teste cada uma delas!\n",
        "help(plt.bar)"
      ],
      "execution_count": null,
      "outputs": []
    },
    {
      "cell_type": "code",
      "metadata": {
        "id": "e2zX1wA0Xnkr",
        "colab_type": "code",
        "colab": {
          "base_uri": "https://localhost:8080/",
          "height": 515
        },
        "outputId": "6331e064-468f-45c5-bebb-726fde862b4f"
      },
      "source": [
        "sns.get_dataset_names()\n",
        "sns.load_dataset('flights')"
      ],
      "execution_count": 5,
      "outputs": [
        {
          "output_type": "stream",
          "text": [
            "/usr/local/lib/python3.6/dist-packages/seaborn/utils.py:384: UserWarning: No parser was explicitly specified, so I'm using the best available HTML parser for this system (\"lxml\"). This usually isn't a problem, but if you run this code on another system, or in a different virtual environment, it may use a different parser and behave differently.\n",
            "\n",
            "The code that caused this warning is on line 384 of the file /usr/local/lib/python3.6/dist-packages/seaborn/utils.py. To get rid of this warning, pass the additional argument 'features=\"lxml\"' to the BeautifulSoup constructor.\n",
            "\n",
            "  gh_list = BeautifulSoup(http)\n"
          ],
          "name": "stderr"
        },
        {
          "output_type": "execute_result",
          "data": {
            "text/html": [
              "<div>\n",
              "<style scoped>\n",
              "    .dataframe tbody tr th:only-of-type {\n",
              "        vertical-align: middle;\n",
              "    }\n",
              "\n",
              "    .dataframe tbody tr th {\n",
              "        vertical-align: top;\n",
              "    }\n",
              "\n",
              "    .dataframe thead th {\n",
              "        text-align: right;\n",
              "    }\n",
              "</style>\n",
              "<table border=\"1\" class=\"dataframe\">\n",
              "  <thead>\n",
              "    <tr style=\"text-align: right;\">\n",
              "      <th></th>\n",
              "      <th>year</th>\n",
              "      <th>month</th>\n",
              "      <th>passengers</th>\n",
              "    </tr>\n",
              "  </thead>\n",
              "  <tbody>\n",
              "    <tr>\n",
              "      <th>0</th>\n",
              "      <td>1949</td>\n",
              "      <td>January</td>\n",
              "      <td>112</td>\n",
              "    </tr>\n",
              "    <tr>\n",
              "      <th>1</th>\n",
              "      <td>1949</td>\n",
              "      <td>February</td>\n",
              "      <td>118</td>\n",
              "    </tr>\n",
              "    <tr>\n",
              "      <th>2</th>\n",
              "      <td>1949</td>\n",
              "      <td>March</td>\n",
              "      <td>132</td>\n",
              "    </tr>\n",
              "    <tr>\n",
              "      <th>3</th>\n",
              "      <td>1949</td>\n",
              "      <td>April</td>\n",
              "      <td>129</td>\n",
              "    </tr>\n",
              "    <tr>\n",
              "      <th>4</th>\n",
              "      <td>1949</td>\n",
              "      <td>May</td>\n",
              "      <td>121</td>\n",
              "    </tr>\n",
              "    <tr>\n",
              "      <th>...</th>\n",
              "      <td>...</td>\n",
              "      <td>...</td>\n",
              "      <td>...</td>\n",
              "    </tr>\n",
              "    <tr>\n",
              "      <th>139</th>\n",
              "      <td>1960</td>\n",
              "      <td>August</td>\n",
              "      <td>606</td>\n",
              "    </tr>\n",
              "    <tr>\n",
              "      <th>140</th>\n",
              "      <td>1960</td>\n",
              "      <td>September</td>\n",
              "      <td>508</td>\n",
              "    </tr>\n",
              "    <tr>\n",
              "      <th>141</th>\n",
              "      <td>1960</td>\n",
              "      <td>October</td>\n",
              "      <td>461</td>\n",
              "    </tr>\n",
              "    <tr>\n",
              "      <th>142</th>\n",
              "      <td>1960</td>\n",
              "      <td>November</td>\n",
              "      <td>390</td>\n",
              "    </tr>\n",
              "    <tr>\n",
              "      <th>143</th>\n",
              "      <td>1960</td>\n",
              "      <td>December</td>\n",
              "      <td>432</td>\n",
              "    </tr>\n",
              "  </tbody>\n",
              "</table>\n",
              "<p>144 rows × 3 columns</p>\n",
              "</div>"
            ],
            "text/plain": [
              "     year      month  passengers\n",
              "0    1949    January         112\n",
              "1    1949   February         118\n",
              "2    1949      March         132\n",
              "3    1949      April         129\n",
              "4    1949        May         121\n",
              "..    ...        ...         ...\n",
              "139  1960     August         606\n",
              "140  1960  September         508\n",
              "141  1960    October         461\n",
              "142  1960   November         390\n",
              "143  1960   December         432\n",
              "\n",
              "[144 rows x 3 columns]"
            ]
          },
          "metadata": {
            "tags": []
          },
          "execution_count": 5
        }
      ]
    },
    {
      "cell_type": "code",
      "metadata": {
        "id": "hDNZoAz9YcHn",
        "colab_type": "code",
        "colab": {
          "base_uri": "https://localhost:8080/",
          "height": 264
        },
        "outputId": "03000ed9-b523-4879-a662-d03b185da142"
      },
      "source": [
        "data = sns.load_dataset('flights')\n",
        "\n",
        "\n",
        "x = data.month\n",
        "y = data.passengers\n",
        "\n",
        "plt.bar(x,y,width=0.8,color = \"#A11D21\")\n",
        "plt.rc('xtick',labelsize=100)\n",
        "plt.rc('ytick',labelsize=8)\n",
        "\n",
        "plt.show()\n",
        "\n",
        "\n"
      ],
      "execution_count": 10,
      "outputs": [
        {
          "output_type": "display_data",
          "data": {
            "image/png": "[encoded data removed]",
            "text/plain": [
              "<Figure size 432x288 with 1 Axes>"
            ]
          },
          "metadata": {
            "tags": [],
            "needs_background": "light"
          }
        }
      ]
    },
    {
      "cell_type": "markdown",
      "metadata": {
        "id": "y4IPP8-cLgYL",
        "colab_type": "text"
      },
      "source": [
        "* Histograma"
      ]
    },
    {
      "cell_type": "code",
      "metadata": {
        "id": "y0a0HW1eMw-N",
        "colab_type": "code",
        "colab": {
          "base_uri": "https://localhost:8080/",
          "height": 317
        },
        "outputId": "b8851ea9-8ed7-4f9e-f9ae-293593841c02"
      },
      "source": [
        "plt.hist(y)"
      ],
      "execution_count": null,
      "outputs": [
        {
          "output_type": "execute_result",
          "data": {
            "text/plain": [
              "(array([1., 1., 1., 0., 2., 0., 0., 0., 0., 2.]),\n",
              " array([ 8. , 12.5, 17. , 21.5, 26. , 30.5, 35. , 39.5, 44. , 48.5, 53. ]),\n",
              " <a list of 10 Patch objects>)"
            ]
          },
          "metadata": {
            "tags": []
          },
          "execution_count": 33
        },
        {
          "output_type": "display_data",
          "data": {
            "image/png": "[encoded data removed]",
            "text/plain": [
              "<Figure size 432x288 with 1 Axes>"
            ]
          },
          "metadata": {
            "tags": [],
            "needs_background": "light"
          }
        }
      ]
    },
    {
      "cell_type": "markdown",
      "metadata": {
        "id": "VhNbccenLawu",
        "colab_type": "text"
      },
      "source": [
        "* Boxplot"
      ]
    },
    {
      "cell_type": "code",
      "metadata": {
        "id": "PlgR3GyIMzhU",
        "colab_type": "code",
        "colab": {}
      },
      "source": [
        "plt.boxplot(x,y)"
      ],
      "execution_count": null,
      "outputs": []
    },
    {
      "cell_type": "markdown",
      "metadata": {
        "id": "3vCLKElqLogD",
        "colab_type": "text"
      },
      "source": [
        "* Gráfico de Violino"
      ]
    },
    {
      "cell_type": "code",
      "metadata": {
        "id": "xHrwxr0_NFhq",
        "colab_type": "code",
        "colab": {
          "base_uri": "https://localhost:8080/",
          "height": 335
        },
        "outputId": "150d254b-ff93-4a75-ea77-7f8bac8a6139"
      },
      "source": [
        "plt.violinplot(y)"
      ],
      "execution_count": null,
      "outputs": [
        {
          "output_type": "execute_result",
          "data": {
            "text/plain": [
              "{'bodies': [<matplotlib.collections.PolyCollection at 0x7f71d9456080>],\n",
              " 'cbars': <matplotlib.collections.LineCollection at 0x7f71d94567f0>,\n",
              " 'cmaxes': <matplotlib.collections.LineCollection at 0x7f71d9449fd0>,\n",
              " 'cmins': <matplotlib.collections.LineCollection at 0x7f71d9456550>}"
            ]
          },
          "metadata": {
            "tags": []
          },
          "execution_count": 43
        },
        {
          "output_type": "display_data",
          "data": {
            "image/png": "[encoded data removed]",
            "text/plain": [
              "<Figure size 432x288 with 1 Axes>"
            ]
          },
          "metadata": {
            "tags": [],
            "needs_background": "light"
          }
        }
      ]
    },
    {
      "cell_type": "markdown",
      "metadata": {
        "id": "hhIf09NoL2vM",
        "colab_type": "text"
      },
      "source": [
        "* Gráfico de Área"
      ]
    }
  ]
}