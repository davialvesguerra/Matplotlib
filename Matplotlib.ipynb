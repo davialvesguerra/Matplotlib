{
  "nbformat": 4,
  "nbformat_minor": 0,
  "metadata": {
    "colab": {
      "name": "Matplotlib.ipynb",
      "provenance": [],
      "authorship_tag": "ABX9TyPm4ig75YZbKMJ/9Mho/+9y",
      "include_colab_link": true
    },
    "kernelspec": {
      "name": "python3",
      "display_name": "Python 3"
    }
  },
  "cells": [
    {
      "cell_type": "markdown",
      "metadata": {
        "id": "view-in-github",
        "colab_type": "text"
      },
      "source": [
        "<a href=\"https://colab.research.google.com/github/davialvesguerra/Matplotlib/blob/master/Matplotlib.ipynb\" target=\"_parent\"><img src=\"https://colab.research.google.com/assets/colab-badge.svg\" alt=\"Open In Colab\"/></a>"
      ]
    },
    {
      "cell_type": "markdown",
      "metadata": {
        "id": "rZNxZIO6IoBm",
        "colab_type": "text"
      },
      "source": [
        "### Importando o pacote"
      ]
    },
    {
      "cell_type": "code",
      "metadata": {
        "id": "nGWBuFNXi44w",
        "colab_type": "code",
        "colab": {}
      },
      "source": [
        "import matplotlib.pyplot as plt"
      ],
      "execution_count": null,
      "outputs": []
    },
    {
      "cell_type": "markdown",
      "metadata": {
        "id": "n2MchqMPN5F_",
        "colab_type": "text"
      },
      "source": [
        "### Criando seu gráfico"
      ]
    },
    {
      "cell_type": "code",
      "metadata": {
        "id": "iXw9Ic0aOKZ6",
        "colab_type": "code",
        "colab": {}
      },
      "source": [
        "#objeto que vai conter todos os gráficos\n",
        "fig = plt.figures()\n",
        "\n",
        "#fig.add_axes()\n",
        "#a = fig.add_subplot(222)\tInitializes subplot\n",
        "#A subplot is an axes on a grid system row-col-num.\n",
        "#fig, b = plt.subplots(nrows=3, nclos=2)\tAdds subplot\n",
        "#ax = plt.subplots(2, 2)\tCreates subplot"
      ],
      "execution_count": null,
      "outputs": []
    },
    {
      "cell_type": "markdown",
      "metadata": {
        "id": "U_KNx0FsQOSj",
        "colab_type": "text"
      },
      "source": [
        "### Importando o banco de dados e as variáveis que serão utilizadas para os exemplos\n",
        "\n"
      ]
    },
    {
      "cell_type": "code",
      "metadata": {
        "id": "vpcCNNAaQsmG",
        "colab_type": "code",
        "colab": {}
      },
      "source": [
        "import pandas as pd\n",
        "import seaborn as sns\n",
        "\n",
        "\n",
        "x = [1,2,3,4,5,6,7]\n",
        "y = [13,53,21,49,8,30,26]\n",
        "\n",
        "\n",
        "sns.get_dataset_names()\n",
        "data = sns.load_dataset('iris')"
      ],
      "execution_count": null,
      "outputs": []
    },
    {
      "cell_type": "markdown",
      "metadata": {
        "id": "BQy6G7tgKl9g",
        "colab_type": "text"
      },
      "source": [
        "### Tipos de Gráficos\n"
      ]
    },
    {
      "cell_type": "markdown",
      "metadata": {
        "id": "gAUJKFdnKtru",
        "colab_type": "text"
      },
      "source": [
        "*   Gráfico de Linhas"
      ]
    },
    {
      "cell_type": "code",
      "metadata": {
        "id": "0beLxV_SK2vr",
        "colab_type": "code",
        "colab": {
          "base_uri": "https://localhost:8080/",
          "height": 282
        },
        "outputId": "b24a16c8-385c-40c9-fabb-ddace0ee9cae"
      },
      "source": [
        "#cria um simples gráfico de linhas\n",
        "plt.plot(x,y)"
      ],
      "execution_count": 44,
      "outputs": [
        {
          "output_type": "execute_result",
          "data": {
            "text/plain": [
              "[<matplotlib.lines.Line2D at 0x7f71d93abb00>]"
            ]
          },
          "metadata": {
            "tags": []
          },
          "execution_count": 44
        },
        {
          "output_type": "display_data",
          "data": {
            "image/png": "[encoded data removed]",
            "text/plain": [
              "<Figure size 432x288 with 1 Axes>"
            ]
          },
          "metadata": {
            "tags": [],
            "needs_background": "light"
          }
        }
      ]
    },
    {
      "cell_type": "markdown",
      "metadata": {
        "id": "ma3-_N7HW7Za",
        "colab_type": "text"
      },
      "source": [
        "Propriedades"
      ]
    },
    {
      "cell_type": "code",
      "metadata": {
        "id": "pz_JnFUqUQrd",
        "colab_type": "code",
        "colab": {}
      },
      "source": [
        "#veja as principais propriedades e teste cada uma delas!\n",
        "help(plt.plot)"
      ],
      "execution_count": null,
      "outputs": []
    },
    {
      "cell_type": "markdown",
      "metadata": {
        "id": "Xbb__dHIXAz0",
        "colab_type": "text"
      },
      "source": [
        "Exemplo"
      ]
    },
    {
      "cell_type": "code",
      "metadata": {
        "id": "j6JyV0HZWzOd",
        "colab_type": "code",
        "colab": {
          "base_uri": "https://localhost:8080/",
          "height": 312
        },
        "outputId": "f3bf9151-ba3e-4da2-ee19-8232dec01c4b"
      },
      "source": [
        "##Mostrando um exemplo mais complexo\n",
        "data = sns.load_dataset('flights')\n",
        "data = data.groupby(\"year\").sum()\n",
        "\n",
        "x1 = data.index\n",
        "y1 = data.passengers\n",
        "\n",
        "fig, (ax1, ax2) = plt.subplots(2,1)\n",
        "\n",
        "ax1.plot(x1,y1,color = \"#A11D21\",marker='o', markerfacecolor='#A11D21', markersize=3)\n",
        "ax2.plot(x1,y1,color = \"blue\",marker='D',linestyle='dashdot', markerfacecolor='blue', markersize=6)\n",
        "\n",
        "\n",
        "\n",
        "fig.suptitle(\"Números de Vôos na Década de 50\")\n",
        "\n",
        "\n",
        "#fig.xlabel(\"Anos\")\n",
        "#fig.ylabel(\"Número de Vôos\")\n",
        "#fig.show()\n"
      ],
      "execution_count": 151,
      "outputs": [
        {
          "output_type": "execute_result",
          "data": {
            "text/plain": [
              "Text(0.5, 0.98, 'Números de Vôos na Década de 50')"
            ]
          },
          "metadata": {
            "tags": []
          },
          "execution_count": 151
        },
        {
          "output_type": "display_data",
          "data": {
            "image/png": "[encoded data removed]",
            "text/plain": [
              "<Figure size 432x288 with 2 Axes>"
            ]
          },
          "metadata": {
            "tags": [],
            "needs_background": "light"
          }
        }
      ]
    },
    {
      "cell_type": "markdown",
      "metadata": {
        "id": "hqGaD-SnLH9e",
        "colab_type": "text"
      },
      "source": [
        "* Gráfico de Pontos"
      ]
    },
    {
      "cell_type": "code",
      "metadata": {
        "id": "4zbqssvBL8J-",
        "colab_type": "code",
        "colab": {
          "base_uri": "https://localhost:8080/",
          "height": 282
        },
        "outputId": "039b8a12-49ce-461f-b2c7-4289a7255eb9"
      },
      "source": [
        "plt.scatter(x,y)"
      ],
      "execution_count": 20,
      "outputs": [
        {
          "output_type": "execute_result",
          "data": {
            "text/plain": [
              "<matplotlib.collections.PathCollection at 0x7f71d9dd2b38>"
            ]
          },
          "metadata": {
            "tags": []
          },
          "execution_count": 20
        },
        {
          "output_type": "display_data",
          "data": {
            "image/png": "[encoded data removed]",
            "text/plain": [
              "<Figure size 432x288 with 1 Axes>"
            ]
          },
          "metadata": {
            "tags": [],
            "needs_background": "light"
          }
        }
      ]
    },
    {
      "cell_type": "code",
      "metadata": {
        "id": "KHjMdf55WZbf",
        "colab_type": "code",
        "colab": {}
      },
      "source": [
        "#parêmetros\n",
        "#veja as principais propriedades e teste cada uma delas!\n",
        "help(plt.scatter)"
      ],
      "execution_count": null,
      "outputs": []
    },
    {
      "cell_type": "code",
      "metadata": {
        "id": "kliQKzG8Y8Qj",
        "colab_type": "code",
        "colab": {
          "base_uri": "https://localhost:8080/",
          "height": 282
        },
        "outputId": "f9ceb037-a767-4383-b73b-1b44a4c03d9f"
      },
      "source": [
        "##Mostrando um exemplo mais complexo\n",
        "\n",
        "plt.scatter(data.species,data.sepal_length)"
      ],
      "execution_count": 63,
      "outputs": [
        {
          "output_type": "execute_result",
          "data": {
            "text/plain": [
              "<matplotlib.collections.PathCollection at 0x7f71d861bf28>"
            ]
          },
          "metadata": {
            "tags": []
          },
          "execution_count": 63
        },
        {
          "output_type": "display_data",
          "data": {
            "image/png": "[encoded data removed]",
            "text/plain": [
              "<Figure size 432x288 with 1 Axes>"
            ]
          },
          "metadata": {
            "tags": [],
            "needs_background": "light"
          }
        }
      ]
    },
    {
      "cell_type": "markdown",
      "metadata": {
        "id": "nOdpgyXWLNre",
        "colab_type": "text"
      },
      "source": [
        "* Gráfico de Barras Horizontal"
      ]
    },
    {
      "cell_type": "code",
      "metadata": {
        "id": "c7jGdJUYMCZ_",
        "colab_type": "code",
        "colab": {
          "base_uri": "https://localhost:8080/",
          "height": 282
        },
        "outputId": "e2815a35-d0e6-46c6-c9a4-47bc14f5b450"
      },
      "source": [
        "plt.barh(x,y)"
      ],
      "execution_count": 28,
      "outputs": [
        {
          "output_type": "execute_result",
          "data": {
            "text/plain": [
              "<BarContainer object of 7 artists>"
            ]
          },
          "metadata": {
            "tags": []
          },
          "execution_count": 28
        },
        {
          "output_type": "display_data",
          "data": {
            "image/png": "[encoded data removed]",
            "text/plain": [
              "<Figure size 432x288 with 1 Axes>"
            ]
          },
          "metadata": {
            "tags": [],
            "needs_background": "light"
          }
        }
      ]
    },
    {
      "cell_type": "markdown",
      "metadata": {
        "id": "GxoIHEMtLVIi",
        "colab_type": "text"
      },
      "source": [
        "* Gráfico de Barras Vertical"
      ]
    },
    {
      "cell_type": "code",
      "metadata": {
        "id": "1VlnYK86Mtt8",
        "colab_type": "code",
        "colab": {
          "base_uri": "https://localhost:8080/",
          "height": 282
        },
        "outputId": "7362d8f8-b731-49de-cb1c-6ea55ecdfd07"
      },
      "source": [
        "plt.bar(x,y)"
      ],
      "execution_count": 30,
      "outputs": [
        {
          "output_type": "execute_result",
          "data": {
            "text/plain": [
              "<BarContainer object of 7 artists>"
            ]
          },
          "metadata": {
            "tags": []
          },
          "execution_count": 30
        },
        {
          "output_type": "display_data",
          "data": {
            "image/png": "[encoded data removed]",
            "text/plain": [
              "<Figure size 432x288 with 1 Axes>"
            ]
          },
          "metadata": {
            "tags": [],
            "needs_background": "light"
          }
        }
      ]
    },
    {
      "cell_type": "markdown",
      "metadata": {
        "id": "y4IPP8-cLgYL",
        "colab_type": "text"
      },
      "source": [
        "* Histograma"
      ]
    },
    {
      "cell_type": "code",
      "metadata": {
        "id": "y0a0HW1eMw-N",
        "colab_type": "code",
        "colab": {
          "base_uri": "https://localhost:8080/",
          "height": 317
        },
        "outputId": "b8851ea9-8ed7-4f9e-f9ae-293593841c02"
      },
      "source": [
        "plt.hist(y)"
      ],
      "execution_count": 33,
      "outputs": [
        {
          "output_type": "execute_result",
          "data": {
            "text/plain": [
              "(array([1., 1., 1., 0., 2., 0., 0., 0., 0., 2.]),\n",
              " array([ 8. , 12.5, 17. , 21.5, 26. , 30.5, 35. , 39.5, 44. , 48.5, 53. ]),\n",
              " <a list of 10 Patch objects>)"
            ]
          },
          "metadata": {
            "tags": []
          },
          "execution_count": 33
        },
        {
          "output_type": "display_data",
          "data": {
            "image/png": "[encoded data removed]",
            "text/plain": [
              "<Figure size 432x288 with 1 Axes>"
            ]
          },
          "metadata": {
            "tags": [],
            "needs_background": "light"
          }
        }
      ]
    },
    {
      "cell_type": "markdown",
      "metadata": {
        "id": "VhNbccenLawu",
        "colab_type": "text"
      },
      "source": [
        "* Boxplot"
      ]
    },
    {
      "cell_type": "code",
      "metadata": {
        "id": "PlgR3GyIMzhU",
        "colab_type": "code",
        "colab": {}
      },
      "source": [
        "plt.boxplot(x,y)"
      ],
      "execution_count": null,
      "outputs": []
    },
    {
      "cell_type": "markdown",
      "metadata": {
        "id": "3vCLKElqLogD",
        "colab_type": "text"
      },
      "source": [
        "* Gráfico de Violino"
      ]
    },
    {
      "cell_type": "code",
      "metadata": {
        "id": "xHrwxr0_NFhq",
        "colab_type": "code",
        "colab": {
          "base_uri": "https://localhost:8080/",
          "height": 335
        },
        "outputId": "150d254b-ff93-4a75-ea77-7f8bac8a6139"
      },
      "source": [
        "plt.violinplot(y)"
      ],
      "execution_count": 43,
      "outputs": [
        {
          "output_type": "execute_result",
          "data": {
            "text/plain": [
              "{'bodies': [<matplotlib.collections.PolyCollection at 0x7f71d9456080>],\n",
              " 'cbars': <matplotlib.collections.LineCollection at 0x7f71d94567f0>,\n",
              " 'cmaxes': <matplotlib.collections.LineCollection at 0x7f71d9449fd0>,\n",
              " 'cmins': <matplotlib.collections.LineCollection at 0x7f71d9456550>}"
            ]
          },
          "metadata": {
            "tags": []
          },
          "execution_count": 43
        },
        {
          "output_type": "display_data",
          "data": {
            "image/png": "[encoded data removed]",
            "text/plain": [
              "<Figure size 432x288 with 1 Axes>"
            ]
          },
          "metadata": {
            "tags": [],
            "needs_background": "light"
          }
        }
      ]
    },
    {
      "cell_type": "markdown",
      "metadata": {
        "id": "hhIf09NoL2vM",
        "colab_type": "text"
      },
      "source": [
        "* Gráfico de Área"
      ]
    }
  ]
}